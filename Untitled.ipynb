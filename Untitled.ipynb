{
 "cells": [
  {
   "cell_type": "markdown",
   "metadata": {},
   "source": [
    "# Projecting the rate matrix. Proove yourself that the commutation relation works!"
   ]
  },
  {
   "cell_type": "markdown",
   "metadata": {},
   "source": [
    "PCCA+ is a clustering algorithm. It works with a projection of the matrix via a set of basis functions. What is very advantageous about this projection is that the propagation and the projection commutes. "
   ]
  },
  {
   "cell_type": "markdown",
   "metadata": {},
   "source": [
    "Note that the commutation relation of the pcca+ can be applied here as well, that is how do we compute the projected infinitesimal generator? In principle, there are two procedures that yields to the PCCA+-projected rate-matrix: \\begin{enumerate}\n",
    "    \\item project the Koopman matrix $K(\\tau)$ with PCCA+, apply finite-differences/ matrix logarithm/Newton; \\label{option1}\n",
    "    \\item apply finite-differences/ matrix logarithm/Newton, then project the rate matrix into a smaller conformational space with PCCA+ \\label{option2}\n",
    "\\end{enumerate} \n",
    "Here the application to the sequential decay dataset. For the first option \\ref{option1}, one obtains \\begin{align}\n",
    "    Q_{fd1} = \\begin{pmatrix}\n",
    "    -0.007&\t0.008&\t-0.001\\\\\n",
    "0.013&\t-0.023&\t0.011\\\\\n",
    "-0.001&\t0.012&\t-0.011\n",
    "    \\end{pmatrix};\n",
    "\\end{align} for the second option: \\begin{align}\n",
    "    Q_{fd2} = \\begin{pmatrix}\n",
    "    -0.007&\t0.008&\t-0.001 \\\\\n",
    "0.013&\t-0.023&\t0.010\\\\\n",
    "-0.001&\t0.012&\t-0.011\n",
    "    \\end{pmatrix}\n",
    "\\end{align} with a difference compute with the operator norm $\\Vert Q_{fd1}-Q_{fd2} \\Vert= 0.0005$ (relative $\\Vert Q_{fd1}-Q_{fd2} \\Vert/\\Vert Q_{fd1}\\Vert=is 0.016$). So, the computation of the rate matrix will be not affected by the choice of one of the two options. "
   ]
  },
  {
   "cell_type": "code",
   "execution_count": 1,
   "metadata": {},
   "outputs": [],
   "source": [
    "import numpy as np \n",
    "import cmdtools "
   ]
  },
  {
   "cell_type": "code",
   "execution_count": null,
   "metadata": {},
   "outputs": [],
   "source": []
  }
 ],
 "metadata": {
  "kernelspec": {
   "display_name": "Python 3",
   "language": "python",
   "name": "python3"
  },
  "language_info": {
   "codemirror_mode": {
    "name": "ipython",
    "version": 3
   },
   "file_extension": ".py",
   "mimetype": "text/x-python",
   "name": "python",
   "nbconvert_exporter": "python",
   "pygments_lexer": "ipython3",
   "version": "3.8.3"
  }
 },
 "nbformat": 4,
 "nbformat_minor": 4
}
