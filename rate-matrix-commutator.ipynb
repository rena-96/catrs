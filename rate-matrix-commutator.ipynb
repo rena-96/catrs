{
 "cells": [
  {
   "cell_type": "markdown",
   "metadata": {},
   "source": [
    "# Projecting the rate matrix. Prove yourself that the commutation relation works!"
   ]
  },
  {
   "cell_type": "markdown",
   "metadata": {},
   "source": [
    "PCCA+ is a clustering algorithm. In this work, it is used for computing the transition matrix $K^c(\\tau)$ and the rate matrix $Q^c(\\tau)$ between the dominant conformations. PCCA+ works with a projection of the matrix via a set of basis functions $\\chi_i$. In discrete case, $\\chi_i$ is a vector that gives information about the membership grade of each discretization cell to this dominant conformation $i$. So, is the cell $j$ 100% in the dominant conformation $i$, so is $\\chi_{ij}=1$.\n",
    "\n",
    "What is very advantageous about this projection of the operator is that the propagation and the projection commutes. This means, one obtain the same result for $(K^c(\\tau))^k$(first compute $K(\\tau)$, then iterate $k$ times) or $K^c(k\\tau)$ (first iterate $k$ times and obtain $K(k\\tau)$, then project) . \n"
   ]
  },
  {
   "cell_type": "markdown",
   "metadata": {},
   "source": [
    "Note that the commutation relation of the PCCA+ can be applied for the computation of the projected rate matrix $Q^c$ as well. \n",
    "\n",
    "**How do we compute the projected infinitesimal generator?**\n",
    "\n",
    "In principle, there are two procedures that yields to the PCCA+-projected rate-matrix:\n",
    "    1. project the Koopman matrix $K(\\tau)$ with PCCA+, apply finite-differences/ matrix logarithm/Newton; \n",
    "    2. apply finite-differences/ matrix logarithm/Newton, then project the rate matrix into a smaller conformational space with PCCA+ \n",
    "\n",
    "\n",
    "_In the following, you can try on our own the two options and convince yourself that it works!_  \n",
    "Here the application to the sequential decay dataset."
   ]
  },
  {
   "cell_type": "markdown",
   "metadata": {},
   "source": [
    "%with a difference compute with the operator norm $\\Vert Q_{fd1}-Q_{fd2} \\Vert= 0.0005$ (relative $\\Vert Q_{fd1}-Q_{fd2} \\Vert/\\Vert Q_{fd1}\\Vert=is 0.016$). So, the computation of the rate matrix will be not affected by the choice of one of the two options. "
   ]
  },
  {
   "cell_type": "code",
   "execution_count": 1,
   "metadata": {},
   "outputs": [],
   "source": [
    "import numpy as np \n",
    "from scipy.linalg import pinv\n",
    "import cmdtools \n",
    "#add files for the computation\n",
    "# sequential decay"
   ]
  },
  {
   "cell_type": "code",
   "execution_count": 10,
   "metadata": {},
   "outputs": [],
   "source": [
    "#load transition matrix for a discretization of in 50 Voronoi cells of the spectrum\n",
    "K = np.loadtxt(\"K_tutorial_50vor.txt\")\n",
    "#number of dominant conformations \n",
    "nclus = 3"
   ]
  },
  {
   "cell_type": "code",
   "execution_count": 7,
   "metadata": {},
   "outputs": [
    {
     "name": "stdout",
     "output_type": "stream",
     "text": [
      "[[-0.0068202   0.00795601 -0.00113582]\n",
      " [ 0.01255214 -0.02300592  0.01045377]\n",
      " [-0.00139596  0.01217041 -0.01077445]]\n"
     ]
    }
   ],
   "source": [
    "#option 1\n",
    "chi1 =  cmdtools.analysis.pcca.pcca(K,nclus) #membership functions for Q2\n",
    "K_c =  pinv(chi1).dot((K.dot(chi1))) #PCCA+ projected transition matrix, (nclus x nclus)\n",
    "Q_c1 = K_c - np.eye(nclus) #PCCA+ projected rate matrix\n",
    "print(Q_c1)"
   ]
  },
  {
   "cell_type": "code",
   "execution_count": 8,
   "metadata": {},
   "outputs": [
    {
     "name": "stdout",
     "output_type": "stream",
     "text": [
      "[[-0.0068202   0.00795601 -0.00113582]\n",
      " [ 0.01255214 -0.02300592  0.01045377]\n",
      " [-0.00139596  0.01217041 -0.01077445]]\n"
     ]
    }
   ],
   "source": [
    "#option 2\n",
    "Q2 = K - np.eye(50) # rate matrix 50x50\n",
    "chi2 =  cmdtools.analysis.pcca.pcca(Q2,nclus) #membership functions for Q2\n",
    "Q_c2 =  pinv(chi2).dot((K-np.eye(50)).dot(chi2)) #PCCA+ projected rate matrix, (nclus x nclus)\n",
    "print(Q_c2)"
   ]
  },
  {
   "cell_type": "code",
   "execution_count": 11,
   "metadata": {},
   "outputs": [
    {
     "data": {
      "text/plain": [
       "array([[-5.20417043e-17,  5.39499001e-16,  2.54353830e-16],\n",
       "       [-2.22044605e-16,  5.58580959e-16,  1.73472348e-17],\n",
       "       [ 3.09214460e-16, -5.03069808e-17, -3.81639165e-17]])"
      ]
     },
     "execution_count": 11,
     "metadata": {},
     "output_type": "execute_result"
    }
   ],
   "source": [
    "Q_c1 - Q_c2"
   ]
  },
  {
   "cell_type": "markdown",
   "metadata": {},
   "source": [
    " For the first option, one obtains \\begin{align}\n",
    "    Q_{c1} = \\begin{pmatrix}\n",
    "    -0.007&\t0.008&\t-0.001\\\\\n",
    "0.013&\t-0.023&\t0.011\\\\\n",
    "-0.001&\t0.012&\t-0.011\n",
    "    \\end{pmatrix};\n",
    "\\end{align} for the second option: \\begin{align}\n",
    "    Q_{c2} = \\begin{pmatrix}\n",
    "    -0.007&\t0.008&\t-0.001 \\\\\n",
    "0.013&\t-0.023&\t0.010\\\\\n",
    "-0.001&\t0.012&\t-0.011\n",
    "    \\end{pmatrix}\n",
    "\\end{align}\n"
   ]
  },
  {
   "cell_type": "markdown",
   "metadata": {},
   "source": [
    "So we checked that the commutator works! Literature about it can be found i.e. in [M.Weber, A Subspace Approach to Molecular Markov State Models via a New Infinitesimal Generator, 2011](https://opus4.kobv.de/opus4-zib/frontdoor/index/index/docId/1402 \"Theorem 2, Chap.3.3\")\n"
   ]
  },
  {
   "cell_type": "code",
   "execution_count": null,
   "metadata": {},
   "outputs": [],
   "source": []
  }
 ],
 "metadata": {
  "kernelspec": {
   "display_name": "Python 3",
   "language": "python",
   "name": "python3"
  },
  "language_info": {
   "codemirror_mode": {
    "name": "ipython",
    "version": 3
   },
   "file_extension": ".py",
   "mimetype": "text/x-python",
   "name": "python",
   "nbconvert_exporter": "python",
   "pygments_lexer": "ipython3",
   "version": "3.8.3"
  }
 },
 "nbformat": 4,
 "nbformat_minor": 4
}
